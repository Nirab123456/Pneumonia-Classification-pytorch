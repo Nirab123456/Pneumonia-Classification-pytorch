{
 "cells": [
  {
   "cell_type": "code",
   "execution_count": 2,
   "metadata": {},
   "outputs": [],
   "source": [
    "# Import Libraries\n",
    "import torch\n",
    "import torchvision.transforms as transforms\n",
    "import torchvision.datasets as datasets\n",
    "import torchvision.models as models\n",
    "import torch.nn as nn\n",
    "import torch.optim as optim\n",
    "import torch.optim as optim\n",
    "from torch.utils.data import DataLoader\n",
    "from torch.utils.tensorboard import SummaryWriter\n",
    "import matplotlib.pyplot as plt\n",
    "import torch \n",
    "import torch.nn as nn \n"
   ]
  },
  {
   "cell_type": "code",
   "execution_count": 12,
   "metadata": {},
   "outputs": [
    {
     "name": "stdout",
     "output_type": "stream",
     "text": [
      "tensor([[0.8211, 0.1789]])\n",
      "tensor([0])\n"
     ]
    }
   ],
   "source": [
    "from PIL import Image\n",
    "\n",
    "transformations = transforms.Compose([\n",
    "    transforms.Resize(255),\n",
    "    transforms.CenterCrop(224),\n",
    "    transforms.ToTensor(),\n",
    "    transforms.Normalize(mean=[0.485, 0.456, 0.406], std=[0.229, 0.224, 0.225])\n",
    "])\n",
    "\n",
    "test_single_image_path = \"D:/learn_django_v3/x-ray/chest_xray/test/NORMAL/NORMAL2-IM-0173-0001-0001.jpeg\"\n",
    "test_single_image = Image.open(test_single_image_path).convert(\"RGB\")  # Convert to RGB\n",
    "test_single_image = transformations(test_single_image)\n",
    "\n",
    "# Load the pretrained model\n",
    "model = models.resnet18(pretrained=True)\n",
    "# Freeze model parameters\n",
    "for param in model.parameters():\n",
    "    param.requires_grad = False\n",
    "# Change the final layer of densenet model\n",
    "classifier_input = model.fc.in_features\n",
    "num_labels = 2\n",
    "classifier = nn.Sequential(nn.Linear(classifier_input, 100),\n",
    "                            nn.ReLU(),\n",
    "                            nn.Linear(100, 512),\n",
    "                            nn.ReLU(),\n",
    "                            nn.Dropout(p=0.5),\n",
    "                            nn.Linear(512, 128),\n",
    "                            nn.ReLU(),\n",
    "                            nn.Dropout(p=0.5),\n",
    "                            nn.Linear(128, 64),\n",
    "                            nn.ReLU(),\n",
    "                            nn.Dropout(p=0.5),\n",
    "                            nn.Linear(64, num_labels),\n",
    "                            nn.LogSoftmax(dim=1))\n",
    "model.fc = classifier\n",
    "#load the model\n",
    "model.load_state_dict(torch.load('model_epoch_27.pt'))\n",
    "model.eval()\n",
    "# Test out your network!\n",
    "with torch.no_grad():\n",
    "    output = model(test_single_image.unsqueeze(0))\n",
    "ps = torch.exp(output)\n",
    "print(ps)\n",
    "print(ps.argmax(dim=1))\n",
    "\n"
   ]
  }
 ],
 "metadata": {
  "kernelspec": {
   "display_name": "tf",
   "language": "python",
   "name": "python3"
  },
  "language_info": {
   "codemirror_mode": {
    "name": "ipython",
    "version": 3
   },
   "file_extension": ".py",
   "mimetype": "text/x-python",
   "name": "python",
   "nbconvert_exporter": "python",
   "pygments_lexer": "ipython3",
   "version": "3.8.16"
  },
  "orig_nbformat": 4
 },
 "nbformat": 4,
 "nbformat_minor": 2
}
